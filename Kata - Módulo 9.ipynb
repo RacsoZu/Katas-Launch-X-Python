{
 "cells": [
  {
   "cell_type": "markdown",
   "metadata": {},
   "source": [
    "# Módulo 9 - Funciones"
   ]
  },
  {
   "cell_type": "markdown",
   "metadata": {},
   "source": [
    "Ejercicio 1: Trabajar con argumentos en funciones"
   ]
  },
  {
   "cell_type": "code",
   "execution_count": 15,
   "metadata": {},
   "outputs": [
    {
     "name": "stdout",
     "output_type": "stream",
     "text": [
      "Reporte de combustible:\n",
      "    Promedio de combustible: 150.0 \n",
      "    - Tanque 1: 50\n",
      "    - Tanque 2: 100 \n",
      "    - Tanque 3: 300\n",
      "    \n"
     ]
    }
   ],
   "source": [
    "#Funcion que hace el promedio de tres lecturas de combustible\n",
    "def generarReporte(lectura1,lectura2,lectura3): \n",
    "    #Actualización del reporte:\n",
    "    return f\"\"\"Reporte de combustible:\n",
    "    Promedio de combustible: {promedioTanques([lectura1,lectura2,lectura3])} \n",
    "    - Tanque 1: {lectura1}\n",
    "    - Tanque 2: {lectura2} \n",
    "    - Tanque 3: {lectura3}\n",
    "    \"\"\"\n",
    "\n",
    "#Funcion que cálcula el promedio de los valores\n",
    "def promedioTanques(valores):\n",
    "    total = sum(valores)\n",
    "    numeroElementos = len(valores)\n",
    "    return total/numeroElementos\n",
    "\n",
    "\n",
    "#Llamado de la función\n",
    "print(generarReporte(50,100,300))"
   ]
  },
  {
   "cell_type": "markdown",
   "metadata": {},
   "source": [
    "Ejercicio 2: Trabajo con argumentos de palabra clave"
   ]
  },
  {
   "cell_type": "code",
   "execution_count": 12,
   "metadata": {},
   "outputs": [
    {
     "name": "stdout",
     "output_type": "stream",
     "text": [
      "Destino de la misión: Luna\n",
      "    - Duración total del viaje: 65 minutos\n",
      "    - Combustible total disponible: 500000 galones\n",
      "\n",
      "Reporte 2.0\n",
      "Destino de la misión: Luna\n",
      "- Duración total del viaje: 76 minutos\n",
      "- Combustible total disponible: 500000 galones\n",
      "-- Tanque: principal : 300000 galones disponibles\n",
      "-- Tanque: externo : 200000 galones disponibles\n",
      "\n"
     ]
    }
   ],
   "source": [
    "#Función versión 1\n",
    "def informe(destino, tiempoPrelanzamiento, tiempoVuelo, tanqueExterno, tanqueInterno):\n",
    "    return f\"\"\"Destino de la misión: {destino}\n",
    "    - Duración total del viaje: {tiempoPrelanzamiento + tiempoVuelo} minutos\n",
    "    - Combustible total disponible: {tanqueExterno + tanqueInterno} galones\"\"\"\n",
    "\n",
    "#Prueba de función 1\n",
    "print(informe(\"Luna\", 14, 51, 200000, 300000)+\"\\n\")\n",
    "\n",
    "#Función 2.0\n",
    "print(\"Reporte 2.0\")\n",
    "def informe2(destino, *minutos, **combustible):\n",
    "    reportePrincipal = f\"\"\"Destino de la misión: {destino}\n",
    "- Duración total del viaje: {sum(minutos)} minutos\n",
    "- Combustible total disponible: {sum(combustible.values())} galones\\n\"\"\"\n",
    "    #Actualización de la funcion\n",
    "    for nombreTanque, galones in combustible.items():\n",
    "        reportePrincipal += f\"-- Tanque: {nombreTanque} : {galones} galones disponibles\\n\"\n",
    "    return(reportePrincipal)\n",
    "print(informe2(\"Luna\", 10, 15, 51, principal = 300000, externo = 200000))"
   ]
  }
 ],
 "metadata": {
  "interpreter": {
   "hash": "f4a6bab5be5379ec171f0f37de643193f1f45734aeec6b0df5ac32a76d650868"
  },
  "kernelspec": {
   "display_name": "Python 3.9.6 64-bit",
   "language": "python",
   "name": "python3"
  },
  "language_info": {
   "codemirror_mode": {
    "name": "ipython",
    "version": 3
   },
   "file_extension": ".py",
   "mimetype": "text/x-python",
   "name": "python",
   "nbconvert_exporter": "python",
   "pygments_lexer": "ipython3",
   "version": "3.9.6"
  },
  "orig_nbformat": 4
 },
 "nbformat": 4,
 "nbformat_minor": 2
}
