{
 "cells": [
  {
   "cell_type": "markdown",
   "metadata": {},
   "source": [
    "# Módulo 8 - Administrar datos con diccionarios"
   ]
  },
  {
   "cell_type": "markdown",
   "metadata": {},
   "source": [
    "Ejercicio 1: Creación de diccionarios de Python"
   ]
  },
  {
   "cell_type": "code",
   "execution_count": 15,
   "metadata": {},
   "outputs": [
    {
     "name": "stdout",
     "output_type": "stream",
     "text": [
      "Data: \n",
      "- name: Mars\n",
      "- moons: 2\n",
      "\n",
      "Data 2:\n",
      "- Planet: Mars\n",
      "- Polar circumference: 6752\n"
     ]
    }
   ],
   "source": [
    "#Creación de diccionario de acuerdo a los requerimientos\n",
    "planet = {\n",
    "    'name': \"Mars\",\n",
    "    'moons': 2\n",
    "}\n",
    "#Salida de los datos del diccionario\n",
    "print(\"Data: \")\n",
    "for dato in planet.keys():\n",
    "    print(\"- {}: {}\".format(dato, planet[dato]))\n",
    "\n",
    "#Actualización de diccionario\n",
    "circumferences = {\n",
    "    'polar' : 6752, #km\n",
    "    'equatorial' : 6792 #km\n",
    "} \n",
    "planet['circumferences (km)'] = circumferences\n",
    "\n",
    "#Impresion nombre planeta y circunferencia polar\n",
    "print(\"\\nData 2:\\n- Planet: {}\\n- Polar circumference: {}\".format(planet['name'], planet['circumferences (km)']['polar'] ))"
   ]
  },
  {
   "cell_type": "markdown",
   "metadata": {},
   "source": [
    "Ejercicio 2: Programación dinámica con diccionarios"
   ]
  },
  {
   "cell_type": "code",
   "execution_count": 1,
   "metadata": {},
   "outputs": [
    {
     "name": "stdout",
     "output_type": "stream",
     "text": [
      "Number of moons list: [0, 0, 1, 2, 79, 82, 27, 14, 5, 2, 1, 1]\n",
      "Total number of planets: 12\n",
      "Total number of moons: 214\n",
      "Average moons per planet: 17.83\n"
     ]
    }
   ],
   "source": [
    "# Planets and moons\n",
    "planet_moons = {\n",
    "    'mercury': 0,\n",
    "    'venus': 0,\n",
    "    'earth': 1,\n",
    "    'mars': 2,\n",
    "    'jupiter': 79,\n",
    "    'saturn': 82,\n",
    "    'uranus': 27,\n",
    "    'neptune': 14,\n",
    "    'pluto': 5,\n",
    "    'haumea': 2,\n",
    "    'makemake': 1,\n",
    "    'eris': 1\n",
    "}\n",
    "#Lista de número de lunas\n",
    "moons = planet_moons.values() \n",
    "list_moons = [] #Se crea una lista para hacer más estetica la salida\n",
    "for numberMoon in moons:\n",
    "    list_moons.append(numberMoon) \n",
    "print(f\"Number of moons list: {list_moons}\")\n",
    "\n",
    "#Número de planetas\n",
    "planets = len(planet_moons.keys()) \n",
    "print(f\"Total number of planets: {planets}\")\n",
    "\n",
    "#Determinar número de lunas\n",
    "total_moons = 0 \n",
    "for moon in moons:\n",
    "    total_moons += moon\n",
    "print(f\"Total number of moons: {total_moons}\")\n",
    "\n",
    "#Promedio de lunas por planeta\n",
    "average_moon = total_moons / planets\n",
    "print(\"Average moons per planet: {:.2f}\".format(average_moon))"
   ]
  }
 ],
 "metadata": {
  "interpreter": {
   "hash": "f4a6bab5be5379ec171f0f37de643193f1f45734aeec6b0df5ac32a76d650868"
  },
  "kernelspec": {
   "display_name": "Python 3.9.6 64-bit",
   "language": "python",
   "name": "python3"
  },
  "language_info": {
   "codemirror_mode": {
    "name": "ipython",
    "version": 3
   },
   "file_extension": ".py",
   "mimetype": "text/x-python",
   "name": "python",
   "nbconvert_exporter": "python",
   "pygments_lexer": "ipython3",
   "version": "3.9.6"
  },
  "orig_nbformat": 4
 },
 "nbformat": 4,
 "nbformat_minor": 2
}
