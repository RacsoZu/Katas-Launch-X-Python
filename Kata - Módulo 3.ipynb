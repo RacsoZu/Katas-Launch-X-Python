{
 "cells": [
  {
   "cell_type": "markdown",
   "metadata": {},
   "source": [
    "## Kata - Módulo 3: Usar lógica booleana"
   ]
  },
  {
   "cell_type": "markdown",
   "metadata": {},
   "source": [
    "Ejercicio 1: Advertencia sobre asteroide"
   ]
  },
  {
   "cell_type": "code",
   "execution_count": 1,
   "metadata": {},
   "outputs": [
    {
     "name": "stdout",
     "output_type": "stream",
     "text": [
      "¡Alerta! Un asteroide viaja a velocidad peligrosas\n"
     ]
    }
   ],
   "source": [
    "#Nota: cualquier velocidad superior a 25 kilómetros por segundo (km/s) merece una advertencia.\n",
    "velocidadAsteroide = 49 # Velocidad en km/s\n",
    "\n",
    "if velocidadAsteroide > 25:\n",
    "    print(\"¡Alerta! Un asteroide viaja a velocidad peligrosas\")\n",
    "else:   \n",
    "    print(\"No hay de que preocuparse :)\")"
   ]
  },
  {
   "cell_type": "markdown",
   "metadata": {},
   "source": [
    "Ejercicio 2: Un asteroide en el cielo"
   ]
  },
  {
   "cell_type": "code",
   "execution_count": 7,
   "metadata": {},
   "outputs": [
    {
     "name": "stdout",
     "output_type": "stream",
     "text": [
      "Sigue con tu día, no hay nada que observar en esta ocasión.\n"
     ]
    }
   ],
   "source": [
    "#Nota: Si un asteroide entra en la atmósfera de la Tierra a una velocidad mayor o igual a 20 km/s, a veces produce un rayo de luz que se puede ver desde la Tierra.\n",
    "velocidadAsteroide = 19 #Velocidad en km/s\n",
    "\n",
    "if velocidadAsteroide > 20:\n",
    "    print(\"¡Observa el cielo! Se puede distinguir un asteroide desde la base Tierra\")\n",
    "elif velocidadAsteroide == 20:\n",
    "    print(\"¡Observa el cielo! Se puede distinguir un asteroide desde la base Tierra\")\n",
    "else:\n",
    "    print(\"Sigue con tu día, no hay nada que observar en esta ocasión.\")"
   ]
  }
 ],
 "metadata": {
  "interpreter": {
   "hash": "f4a6bab5be5379ec171f0f37de643193f1f45734aeec6b0df5ac32a76d650868"
  },
  "kernelspec": {
   "display_name": "Python 3.9.6 64-bit",
   "language": "python",
   "name": "python3"
  },
  "language_info": {
   "codemirror_mode": {
    "name": "ipython",
    "version": 3
   },
   "file_extension": ".py",
   "mimetype": "text/x-python",
   "name": "python",
   "nbconvert_exporter": "python",
   "pygments_lexer": "ipython3",
   "version": "3.9.6"
  },
  "orig_nbformat": 4
 },
 "nbformat": 4,
 "nbformat_minor": 2
}
