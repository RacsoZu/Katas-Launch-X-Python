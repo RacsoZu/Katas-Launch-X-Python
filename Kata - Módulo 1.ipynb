{
 "cells": [
  {
   "cell_type": "markdown",
   "metadata": {},
   "source": [
    "# Kata del módulo 1\n"
   ]
  },
  {
   "cell_type": "markdown",
   "metadata": {},
   "source": [
    "Programa que muestra la fecha"
   ]
  },
  {
   "cell_type": "code",
   "execution_count": 2,
   "metadata": {},
   "outputs": [
    {
     "name": "stdout",
     "output_type": "stream",
     "text": [
      "Today's date is: 2022-02-07\n"
     ]
    }
   ],
   "source": [
    "from datetime import date #Se importa el módulo para poder usar sus funciones\n",
    "fechaHoy = str(date.today()) #Se convierte a String la fecha\n",
    "print(f\"Today's date is: {fechaHoy}\")\n"
   ]
  },
  {
   "cell_type": "markdown",
   "metadata": {},
   "source": [
    "Convertidor de unidades: Parsec - Años Luz"
   ]
  },
  {
   "cell_type": "code",
   "execution_count": 3,
   "metadata": {},
   "outputs": [
    {
     "name": "stdout",
     "output_type": "stream",
     "text": [
      "11 parsec is 35.88 lightYears\n"
     ]
    }
   ],
   "source": [
    "#Equivalencias: 1 parsec es 3.26156 años luz\n",
    "lightYears = parsec * 3.26156\n",
    "parsec = int(input(\"Enter the number of Parsecs to be converted: \"))\n",
    "\n",
    "print(\"{} parsec is {:.2f} lightYears\".format(parsec, lightYears))"
   ]
  }
 ],
 "metadata": {
  "interpreter": {
   "hash": "f4a6bab5be5379ec171f0f37de643193f1f45734aeec6b0df5ac32a76d650868"
  },
  "kernelspec": {
   "display_name": "Python 3.9.6 64-bit",
   "language": "python",
   "name": "python3"
  },
  "language_info": {
   "codemirror_mode": {
    "name": "ipython",
    "version": 3
   },
   "file_extension": ".py",
   "mimetype": "text/x-python",
   "name": "python",
   "nbconvert_exporter": "python",
   "pygments_lexer": "ipython3",
   "version": "3.9.6"
  },
  "orig_nbformat": 4
 },
 "nbformat": 4,
 "nbformat_minor": 2
}
