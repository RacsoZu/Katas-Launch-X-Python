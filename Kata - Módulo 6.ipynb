{
 "cells": [
  {
   "cell_type": "markdown",
   "metadata": {},
   "source": [
    "# Módulo 6 - Introducción a las listas"
   ]
  },
  {
   "cell_type": "markdown",
   "metadata": {},
   "source": [
    "Ejercicio1: Crear y usar listas de Python"
   ]
  },
  {
   "cell_type": "code",
   "execution_count": 5,
   "metadata": {},
   "outputs": [
    {
     "name": "stdout",
     "output_type": "stream",
     "text": [
      "Planets of the solar system: ['Mercury', 'Venus', 'Earth', 'Mars', 'Jupiter', 'Saturn', 'Uranus', 'Neptune']\n",
      "\n",
      "Planets of the solar system including Pluto: ['Mercury', 'Venus', 'Earth', 'Mars', 'Jupiter', 'Saturn', 'Uranus', 'Neptune', 'Pluto']\n",
      "- Number of planets in the solar system: 9 planets\n",
      "The last planet is: Pluto\n"
     ]
    }
   ],
   "source": [
    "#Lista planets - Definición e impresión\n",
    "planets = [\"Mercury\", \"Venus\", \"Earth\", \"Mars\", \"Jupiter\", \"Saturn\", \"Uranus\", \"Neptune\"] \n",
    "print(f\"Planets of the solar system: {planets}\\n\")\n",
    "#Inclusion de pluton\n",
    "planets.append(\"Pluto\")\n",
    "print(f\"Planets of the solar system including Pluto: {planets}\")\n",
    "#Número de planetas y último planeta de la lista\n",
    "print(\"- Number of planets in the solar system: {} planets\".format(len(planets)))\n",
    "print(\"- The last planet is: {}\".format(planets[-1]))"
   ]
  },
  {
   "cell_type": "markdown",
   "metadata": {},
   "source": [
    "Ejercicio 2: Trabajando con datos de una lista"
   ]
  },
  {
   "cell_type": "code",
   "execution_count": 16,
   "metadata": {},
   "outputs": [
    {
     "name": "stdout",
     "output_type": "stream",
     "text": [
      "Neptune\n",
      "- The planet you chose is number 7 in the solar system\n",
      "- Planets that are closer to the sun than Neptune: ['Mercury', 'Venus', 'Earth', 'Mars', 'Jupiter', 'Saturn']\n",
      "- Planets that are farther away from the sun than Neptune: []\n"
     ]
    }
   ],
   "source": [
    "# Lista de planetas\n",
    "planets = ['Mercury', 'Venus', 'Earth', 'Mars', 'Jupiter', 'Saturn', 'Neptune']\n",
    "#Solicitar al usuario el nombre de un planeta\n",
    "planet = input(\"Enter the name of a planet in the solar system: \")\n",
    "planet = planet.capitalize() #Convierte la primera letra del string a mayúscula\n",
    "print(planet)\n",
    "#El planeta en la lista con excepciones\n",
    "try:\n",
    "    print(\"- The planet you chose is number {} in the solar system\".format(planets.index(planet) + 1))\n",
    "except:\n",
    "    print(\"- The planet you wrote is not correct\")\n",
    "#Los planetas más cercanos al sol que la entrada del usuario\n",
    "planetPosition = planets.index(planet)\n",
    "closerPlanets = planets[0:planetPosition]\n",
    "print(\"- Planets that are closer to the sun than {}: {}\".format(planet,closerPlanets))\n",
    "#Los planetas más alejados del sol que la entrada del usuario\n",
    "fartherPlanets = planets[planetPosition + 1:]\n",
    "print(\"- Planets that are farther away from the sun than {}: {}\".format(planet,fartherPlanets))"
   ]
  }
 ],
 "metadata": {
  "interpreter": {
   "hash": "f4a6bab5be5379ec171f0f37de643193f1f45734aeec6b0df5ac32a76d650868"
  },
  "kernelspec": {
   "display_name": "Python 3.9.6 64-bit",
   "language": "python",
   "name": "python3"
  },
  "language_info": {
   "codemirror_mode": {
    "name": "ipython",
    "version": 3
   },
   "file_extension": ".py",
   "mimetype": "text/x-python",
   "name": "python",
   "nbconvert_exporter": "python",
   "pygments_lexer": "ipython3",
   "version": "3.9.6"
  },
  "orig_nbformat": 4
 },
 "nbformat": 4,
 "nbformat_minor": 2
}
