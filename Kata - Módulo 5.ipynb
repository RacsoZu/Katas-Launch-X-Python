{
 "cells": [
  {
   "cell_type": "markdown",
   "metadata": {},
   "source": [
    "# Kata 5 - Usar operaciones matemáticas"
   ]
  },
  {
   "cell_type": "markdown",
   "metadata": {},
   "source": [
    "Ejercicio 1 - Utilizar operadores ariméticos"
   ]
  },
  {
   "cell_type": "code",
   "execution_count": 7,
   "metadata": {},
   "outputs": [
    {
     "name": "stdout",
     "output_type": "stream",
     "text": [
      "La Distancia entre la Tierra y Jupiter: 628949330 km\n"
     ]
    }
   ],
   "source": [
    "#Distancias del sol a los planetas\n",
    "Tierra = 149597870 #km\n",
    "Jupiter = 778547200 #km\n",
    "\n",
    "#Distancia entre dos planetas\n",
    "distancia = abs(Tierra - Jupiter)\n",
    "print(f\"La Distancia entre la Tierra y Jupiter: {distancia} km\")"
   ]
  },
  {
   "cell_type": "markdown",
   "metadata": {},
   "source": [
    "Ejercicio 2- convierte cadenas en números y usa valores absolutos"
   ]
  },
  {
   "cell_type": "code",
   "execution_count": 3,
   "metadata": {},
   "outputs": [
    {
     "name": "stdout",
     "output_type": "stream",
     "text": [
      "--- Distancia entre Tierra y Jupiter ---\n",
      "\n",
      "- Distancia entre los planetas: 628949330 km\n",
      "- Distancia entre los planetas: 390577533.93 mi\n"
     ]
    }
   ],
   "source": [
    "#Lectura de valores (distancia del sol para cada planeta)\n",
    "planeta1 = input(\"Ingresa el nombre del primer planeta: \")\n",
    "distancia_P1 = input(\"- Ingresa su distancia en km al sol: \")\n",
    "planeta2 = input(\"Ingresa el nombre del segundo planeta: \")\n",
    "distancia_P2 = input(\"- Ingresa su distancia en km al sol: \")\n",
    "\n",
    "#Conversion a números\n",
    "distancia_P1 = int(distancia_P1)\n",
    "distancia_P2 = int(distancia_P2)\n",
    "\n",
    "#Cálculo de distancia en valor absoluto\n",
    "distancia_Planetas = abs(distancia_P1 - distancia_P2)\n",
    "print(f\"--- Distancia entre {planeta1} y {planeta2} ---\\n\")\n",
    "print(f\"- Distancia entre los planetas: {distancia_Planetas} km\")\n",
    "#Distancia en millas\n",
    "distancia_Planetas *= 0.621 # 1km = 0.621 millas\n",
    "print(f\"- Distancia entre los planetas: {distancia_Planetas} mi\")"
   ]
  }
 ],
 "metadata": {
  "interpreter": {
   "hash": "f4a6bab5be5379ec171f0f37de643193f1f45734aeec6b0df5ac32a76d650868"
  },
  "kernelspec": {
   "display_name": "Python 3.9.6 64-bit",
   "language": "python",
   "name": "python3"
  },
  "language_info": {
   "codemirror_mode": {
    "name": "ipython",
    "version": 3
   },
   "file_extension": ".py",
   "mimetype": "text/x-python",
   "name": "python",
   "nbconvert_exporter": "python",
   "pygments_lexer": "ipython3",
   "version": "3.9.6"
  },
  "orig_nbformat": 4
 },
 "nbformat": 4,
 "nbformat_minor": 2
}
