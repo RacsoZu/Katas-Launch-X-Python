{
 "cells": [
  {
   "cell_type": "markdown",
   "metadata": {},
   "source": [
    "# Módulo 7 - Estructuras de control"
   ]
  },
  {
   "cell_type": "markdown",
   "metadata": {},
   "source": [
    "Ejercicio 1: Uso de ciclos while en Python"
   ]
  },
  {
   "cell_type": "code",
   "execution_count": 9,
   "metadata": {},
   "outputs": [],
   "source": [
    "#Declaración de variables\n",
    "new_planet = \"\"\n",
    "planets = []\n",
    "\n",
    "#Ciclo while solicitado\n",
    "while new_planet.lower() != \"done\":\n",
    "   new_planet = input(\"Enter the name of a planet: \")\n",
    "   if new_planet:\n",
    "       if (new_planet in planets) == False:\n",
    "           planets.append(new_planet)\n",
    "       new_planet = input('- Type another planet or \"done\" if you want to finish: ')\n",
    "       if (new_planet.lower()) != \"done\" and (new_planet in planets) == False:\n",
    "           planets.append(new_planet)"
   ]
  },
  {
   "cell_type": "markdown",
   "metadata": {},
   "source": [
    "Ejercicio 2: Creación de un ciclo \"for\""
   ]
  },
  {
   "cell_type": "code",
   "execution_count": 11,
   "metadata": {},
   "outputs": [
    {
     "name": "stdout",
     "output_type": "stream",
     "text": [
      "Registered planets:\n",
      "- Mercury\n",
      "- Venus\n",
      "- Earth\n",
      "- Mars\n",
      "- Jupiter\n",
      "- Saturn\n"
     ]
    }
   ],
   "source": [
    "#Ciclo for para mostrar la lista de los planetas\n",
    "print(\"Registered planets:\")\n",
    "for planet in planets:\n",
    "    print(f\"- {planet}\")\n"
   ]
  }
 ],
 "metadata": {
  "interpreter": {
   "hash": "f4a6bab5be5379ec171f0f37de643193f1f45734aeec6b0df5ac32a76d650868"
  },
  "kernelspec": {
   "display_name": "Python 3.9.6 64-bit",
   "language": "python",
   "name": "python3"
  },
  "language_info": {
   "codemirror_mode": {
    "name": "ipython",
    "version": 3
   },
   "file_extension": ".py",
   "mimetype": "text/x-python",
   "name": "python",
   "nbconvert_exporter": "python",
   "pygments_lexer": "ipython3",
   "version": "3.9.6"
  },
  "orig_nbformat": 4
 },
 "nbformat": 4,
 "nbformat_minor": 2
}
