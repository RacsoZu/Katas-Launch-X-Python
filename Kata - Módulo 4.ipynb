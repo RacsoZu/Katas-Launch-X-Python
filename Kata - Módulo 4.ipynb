{
 "cells": [
  {
   "cell_type": "markdown",
   "metadata": {},
   "source": [
    "# Kata - Módulo 4: Cadenas"
   ]
  },
  {
   "cell_type": "markdown",
   "metadata": {},
   "source": [
    " Ejercicio 1 - Transformar cadenas"
   ]
  },
  {
   "cell_type": "code",
   "execution_count": 40,
   "metadata": {},
   "outputs": [
    {
     "name": "stdout",
     "output_type": "stream",
     "text": [
      "División del texto en oraciones:\n",
      "- Interesting facts about the Moon\n",
      "- The Moon is Earth's only satellite\n",
      "- There are several interesting facts about the Moon and how it affects life here on Earth\n",
      "- On average, the Moon moves 4cm away from the Earth every year\n",
      "- This yearly drift is not significant enough to cause immediate effects on Earth\n",
      "- The highest daylight temperature of the Moon is 127 C.\n",
      "\n",
      "Oraciones sobre la Luna con palabras clave encontradas:\n",
      "- On average, the Moon moves 4cm away from the Earth every year\n",
      "- The highest daylight temperature of the Moon is 127 Celsius.\n"
     ]
    }
   ],
   "source": [
    "text = \"Interesting facts about the Moon. The Moon is Earth's only satellite. There are several interesting facts about the Moon and how it affects life here on Earth. On average, the Moon moves 4cm away from the Earth every year. This yearly drift is not significant enough to cause immediate effects on Earth. The highest daylight temperature of the Moon is 127 C.\"\n",
    "#Dividir el texto en cada oración.\n",
    "oraciones = text.split(\". \")\n",
    "print(\"División del texto en oraciones:\")\n",
    "for oracion in oraciones:\n",
    "    print(f\"- {oracion}\")\n",
    "\n",
    "#Definicion de palabras clave\n",
    "palabrasClave = [\"average\", \"temperature\", \"distance\"]\n",
    "#Datos sobre la Luna que estén relacionados con las palabras clave\n",
    "print(\"\\nOraciones sobre la Luna con palabras clave encontradas:\")\n",
    "for oracion in oraciones:\n",
    "    for palabra in palabrasClave:\n",
    "        if oracion.find(palabra) != -1 and oracion.find(\"Moon\") != -1: # El método find regresa -1 si no se encuentra el substring\n",
    "            print(\"- {}\".format(oracion.replace(\"C\",\"Celsius\"))) #Búcle actualizado para cambiar \"C\" por \"Celsius\"\n",
    "            break\n",
    "\n",
    "        "
   ]
  },
  {
   "cell_type": "markdown",
   "metadata": {},
   "source": [
    "Ejercicio 2 - Formateando Cadenas"
   ]
  },
  {
   "cell_type": "code",
   "execution_count": 22,
   "metadata": {},
   "outputs": [
    {
     "name": "stdout",
     "output_type": "stream",
     "text": [
      "Gravity data from the Moon\n",
      "- Planet name: Earth\n",
      "- Name: Moon\n",
      "- Gravity = 1.62 m/s²\n",
      "\n",
      "Gravity data from the Ganímedes\n",
      "- Planet name: Martes\n",
      "- Name: Ganímedes\n",
      "- Gravity = 0.00143 \n",
      "\n",
      "New format\n",
      "Gravity data from the Ganímedes\n",
      "- Planet name: Martes\n",
      "- Name: Ganímedes\n",
      "- Gravity = 1.4300000000000002  m/s²\n"
     ]
    }
   ],
   "source": [
    "# Datos con los que vas a trabajar\n",
    "name = \"Moon\"\n",
    "gravity = 0.00162 # in kms\n",
    "planet = \"Earth\"\n",
    "\n",
    "#Título para el texto\n",
    "templateTitle = \"Gravity data from the \"\n",
    "title = templateTitle + name \n",
    "#Plantilla para resto de información\n",
    "gravityMeters = (\"{:.2f}\".format(gravity * 1000)) # in m/s^2\n",
    "template = (f\"\\n- Planet name: {planet}\\n- Name: {name}\\n- Gravity = {gravityMeters} m/s\\u00b2\")\n",
    "print(title + template) #Union de ambas cadenas\n",
    "\n",
    "\n",
    "# Nueva Platilla -- Nuevos datos muestra\n",
    "#planeta = 'Marte '\n",
    "#gravedad  = 0.00143\n",
    "#nombre = 'Ganímedes'\n",
    "newTemplate = \"\\nGravity data from the {nombre}\\n- Planet name: {planeta}\\n- Name: {nombre}\\n- Gravity = {gravedad} \"\n",
    "print(newTemplate.format(nombre = \"Ganímedes\", planeta = \"Martes\", gravedad = 0.00143))\n",
    "print(\"\\nNew format\" + newTemplate.format(nombre = \"Ganímedes\", planeta = \"Martes\",gravedad = 0.00143 * 1000) + \" m/s\\u00b2\")"
   ]
  }
 ],
 "metadata": {
  "interpreter": {
   "hash": "f4a6bab5be5379ec171f0f37de643193f1f45734aeec6b0df5ac32a76d650868"
  },
  "kernelspec": {
   "display_name": "Python 3.9.6 64-bit",
   "language": "python",
   "name": "python3"
  },
  "language_info": {
   "codemirror_mode": {
    "name": "ipython",
    "version": 3
   },
   "file_extension": ".py",
   "mimetype": "text/x-python",
   "name": "python",
   "nbconvert_exporter": "python",
   "pygments_lexer": "ipython3",
   "version": "3.9.6"
  },
  "orig_nbformat": 4
 },
 "nbformat": 4,
 "nbformat_minor": 2
}
